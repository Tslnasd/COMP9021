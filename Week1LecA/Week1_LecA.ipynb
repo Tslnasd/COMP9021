{
 "cells": [
  {
   "cell_type": "markdown",
   "id": "b563fe9e-a06d-4f35-9766-f2b93248e5d7",
   "metadata": {
    "jp-MarkdownHeadingCollapsed": true
   },
   "source": [
    "# Part1\n",
    "print函数与自定义函数:   \n",
    "重点在于体会函数的执行与返回"
   ]
  },
  {
   "cell_type": "code",
   "execution_count": 5,
   "id": "3d59e667-efd1-4862-9023-28e1327d98c3",
   "metadata": {},
   "outputs": [
    {
     "name": "stdout",
     "output_type": "stream",
     "text": [
      "Welcome to COMP9021!\n"
     ]
    },
    {
     "data": {
      "text/plain": [
       "'Welcome to COMP9021!'"
      ]
     },
     "execution_count": 3,
     "metadata": {},
     "output_type": "execute_result"
    }
   ],
   "source": [
    "print('Welcome ' + 'to ' + 'COMP9021!')\n",
    "'Welcome ' + 'to ' + 'COMP9021!'\n",
    "#print函数会把内容打印到屏幕上。输出的是字符串的内容，不会带引号\n",
    "#在字符串运算时，系统默认显示它的返回值，即字符串本身，带引号"
   ]
  },
  {
   "cell_type": "code",
   "execution_count": 9,
   "id": "b5589395-2437-43ee-9cf6-9898fafc6920",
   "metadata": {},
   "outputs": [
    {
     "name": "stdout",
     "output_type": "stream",
     "text": [
      "HiTeo!\n",
      "Hi Teo !\n"
     ]
    }
   ],
   "source": [
    "print('Hi' + 'Teo' + '!')\n",
    "print('Hi', 'Teo', '!')\n",
    "#print函数中sep（分隔符）的默认值为空格，因此第二行输出结果中以空格为间隔y"
   ]
  },
  {
   "cell_type": "code",
   "execution_count": 5,
   "id": "21c996cf-0a9c-46fd-af36-a6b8f9c34748",
   "metadata": {},
   "outputs": [
    {
     "name": "stdout",
     "output_type": "stream",
     "text": [
      "HiBen4!\n",
      "Hi+Ben4+!\n"
     ]
    }
   ],
   "source": [
    "print('Hi', 'Ben4', '!', sep = '')\n",
    "print('Hi', 'Ben4', '!', sep = '+')\n",
    "#改变分隔符"
   ]
  },
  {
   "cell_type": "code",
   "execution_count": 7,
   "id": "5c17db32-cb89-4528-958f-7733f2c30259",
   "metadata": {},
   "outputs": [
    {
     "name": "stdout",
     "output_type": "stream",
     "text": [
      "Hi Ben4!\n",
      "Hi Teo!\n"
     ]
    }
   ],
   "source": [
    "def say_hi(name):\n",
    "    print('Hi ', name, '!', sep = '')\n",
    "say_hi('Ben4')\n",
    "#定义say_hi函数\n",
    "#注意对于字符串输入一定要加'',否则系统会默认是变量名报错\n",
    "my_name = 'Teo'\n",
    "say_hi(my_name)"
   ]
  },
  {
   "cell_type": "code",
   "execution_count": 9,
   "id": "d407d875-a33d-4279-81cd-542c2874d1c3",
   "metadata": {},
   "outputs": [
    {
     "name": "stdout",
     "output_type": "stream",
     "text": [
      "Hi Teo!\n",
      "None\n",
      "Hello world!\n",
      "None\n"
     ]
    }
   ],
   "source": [
    "print(say_hi('Teo'))\n",
    "#是本节重点，体会函数的执行与返回值\n",
    "#第一行输出:say_hi函数中的print执行结果\n",
    "#第二行输出:None, 由于say_hi函数中没有返回值，为空值\n",
    "#其功能相当于:\n",
    "print(print('Hello world!'))"
   ]
  },
  {
   "cell_type": "code",
   "execution_count": 11,
   "id": "a14fd446-2ccb-4aa7-8ce3-3abbe7f07439",
   "metadata": {},
   "outputs": [
    {
     "name": "stdout",
     "output_type": "stream",
     "text": [
      "Hi Ben4!\n",
      "HiTeo!\n",
      "10\n"
     ]
    }
   ],
   "source": [
    "def say_hi_return(name):\n",
    "    return 'Hi ' + name + '!'\n",
    "print(say_hi_return('Ben4'))\n",
    "def say_hi_return10(name):\n",
    "    print('Hi', name, '!', sep='')\n",
    "    return 10\n",
    "print(say_hi_return10('Teo'))"
   ]
  },
  {
   "cell_type": "markdown",
   "id": "8442a3c8-f4d3-42fc-b2bb-332dc1143815",
   "metadata": {
    "jp-MarkdownHeadingCollapsed": true
   },
   "source": [
    "# Part2\n",
    "文件写入与读取，magic command"
   ]
  },
  {
   "cell_type": "code",
   "execution_count": 33,
   "id": "fb32b708-c052-418f-a936-65543e62f756",
   "metadata": {},
   "outputs": [
    {
     "data": {
      "text/plain": [
       "'C:\\\\Users\\\\86182\\\\Desktop\\\\9021'"
      ]
     },
     "execution_count": 33,
     "metadata": {},
     "output_type": "execute_result"
    }
   ],
   "source": [
    "%pwd\n",
    "# magic command前正常应该加%,但Jupyter中有所谓的'magic command自动识别机制'，不加也能够执行\n",
    "# 单行命令%，多行命令%%\n",
    "# pwd显示文档路径"
   ]
  },
  {
   "cell_type": "code",
   "execution_count": 2,
   "id": "fce6a0f7-1e8d-4ed4-beaa-a34321247db3",
   "metadata": {},
   "outputs": [
    {
     "name": "stdout",
     "output_type": "stream",
     "text": [
      "Welcome to COMP9021\n",
      "Starting now!\n"
     ]
    }
   ],
   "source": [
    "# %load my_first_program.py\n",
    "print('Welcome to COMP9021')\n",
    "print('Starting now!')\n",
    "# load加载文件，运行后load行会被自动注释掉"
   ]
  },
  {
   "cell_type": "code",
   "execution_count": 4,
   "id": "4be9aacd-4880-4bdd-9e70-54d587ad167b",
   "metadata": {},
   "outputs": [
    {
     "name": "stdout",
     "output_type": "stream",
     "text": [
      "Welcome to COMP9021\n",
      "Starting now!\n"
     ]
    }
   ],
   "source": [
    "%run my_first_program.py\n",
    "#run直接运行文件"
   ]
  },
  {
   "cell_type": "code",
   "execution_count": 9,
   "id": "896758c2-f0ad-4b10-bd22-4fdc001e6f1f",
   "metadata": {},
   "outputs": [
    {
     "name": "stdout",
     "output_type": "stream",
     "text": [
      "Overwriting my_second_program.py\n"
     ]
    }
   ],
   "source": [
    "%%writefile my_second_program.py\n",
    "print('Hi, Teo!')\n",
    "#writefile创建并写入文件"
   ]
  },
  {
   "cell_type": "markdown",
   "id": "7f8972c0-db0f-46e1-940f-629a25005e6b",
   "metadata": {
    "jp-MarkdownHeadingCollapsed": true
   },
   "source": [
    "# Part3\n",
    "import和from...import...导入库/文件或从库/文件中导入"
   ]
  },
  {
   "cell_type": "code",
   "execution_count": 5,
   "id": "2d9dfeb0-daa5-4eca-a459-9381a01d97c5",
   "metadata": {},
   "outputs": [
    {
     "name": "stdout",
     "output_type": "stream",
     "text": [
      "Overwriting Test_import.py\n"
     ]
    }
   ],
   "source": [
    "%%writefile Test_import.py\n",
    "print('Hi')\n",
    "def Ti(name):\n",
    "    print('Hi', ', ', name, '!', sep = '')\n",
    "# 也可以手动创建一个py文件写，这里复习一下writefile"
   ]
  },
  {
   "cell_type": "code",
   "execution_count": 9,
   "id": "41938c67-0d01-4be2-9eab-5144b0476b00",
   "metadata": {},
   "outputs": [
    {
     "name": "stdout",
     "output_type": "stream",
     "text": [
      "Overwriting Test_fromimport.py\n"
     ]
    }
   ],
   "source": [
    "%%writefile Test_fromimport.py\n",
    "print('Hi')\n",
    "def Tf(name):\n",
    "    print('Hi', ', ', name, '!', sep = '')"
   ]
  },
  {
   "cell_type": "code",
   "execution_count": 5,
   "id": "5645adfb-5144-492a-9949-39db12a107a1",
   "metadata": {},
   "outputs": [
    {
     "name": "stdout",
     "output_type": "stream",
     "text": [
      "Hi\n",
      "Hi, Teo!\n"
     ]
    }
   ],
   "source": [
    "from Test_fromimport import *\n",
    "Tf('Teo')\n",
    "#from..import...相当于直接把调用函数写在这里，因此再次使用时不需要加前缀"
   ]
  },
  {
   "cell_type": "code",
   "execution_count": 9,
   "id": "ece73c37-20b0-49ee-9bd2-2fb94f6a67ba",
   "metadata": {},
   "outputs": [
    {
     "name": "stdout",
     "output_type": "stream",
     "text": [
      "Hi\n",
      "Hi, Ben4!\n"
     ]
    }
   ],
   "source": [
    "import Test_import\n",
    "Test_import.Ti('Ben4')\n",
    "#import..相当于把库调入，在使用函数时，需要用库作为前缀\n",
    "#实际上没什么区别，import的好处是如果import的库中有与原本文件中相同名称的函数，原函数不会被覆盖"
   ]
  },
  {
   "cell_type": "code",
   "execution_count": null,
   "id": "5a1485bd-99e8-4ab5-bae4-2c2d6f2a7a18",
   "metadata": {},
   "outputs": [],
   "source": [
    "#另外可以注意到，在文件中有一条执行命令print\n",
    "#在首次运行时，输出中会有print执行的Hi，而后续运行时没有\n",
    "#这是由于python中模块再次执行导入时，直接从缓存中读取，不再执行顶层代码，不会重复触发print操作"
   ]
  },
  {
   "cell_type": "markdown",
   "id": "daba158a-0243-485d-a562-caef7141c734",
   "metadata": {
    "jp-MarkdownHeadingCollapsed": true
   },
   "source": [
    "# Part4\n",
    "debugger的使用"
   ]
  },
  {
   "cell_type": "code",
   "execution_count": null,
   "id": "53bfcddb-dff7-435c-9366-1a0cf41f4d43",
   "metadata": {},
   "outputs": [],
   "source": [
    "# 右上角Notebook中的小虫子图标\n",
    "# 如果是灰色无法选中并提示选择能够使用debugger的kernel，可以创建一个新的kernel来debug\n",
    "# 在terminal中输入\n",
    "# conda create -n jupyterlab-debugger -c conda-forge \"jupyterlab>=3\" \"ipykernel>=6\" xeus-python\n",
    "# 并在jupyterlab右上方更换kernel\n",
    "# 关于debugger的更多使用，见https://jupyterlab.readthedocs.io/en/stable/user/debugger.html"
   ]
  },
  {
   "cell_type": "code",
   "execution_count": 1,
   "id": "c31c382e-06f3-49d0-b835-b8804b604d41",
   "metadata": {},
   "outputs": [
    {
     "name": "stdout",
     "output_type": "stream",
     "text": [
      "10\n"
     ]
    }
   ],
   "source": [
    "def calculate_sum(n):\n",
    "    total = 0\n",
    "    for i in range(n):\n",
    "        total += i\n",
    "    return total\n",
    "result = calculate_sum(5)\n",
    "print(result)"
   ]
  },
  {
   "cell_type": "markdown",
   "id": "5ffbf87e-2c5c-4f78-a1c0-bf13dc1f48cf",
   "metadata": {},
   "source": [
    "# Part5\n",
    "使用print制表（非常重要）"
   ]
  },
  {
   "cell_type": "code",
   "execution_count": 3,
   "id": "677f086d-8e82-49ed-8ba7-1f07e5dbe0d9",
   "metadata": {},
   "outputs": [
    {
     "name": "stdout",
     "output_type": "stream",
     "text": [
      "0\n"
     ]
    }
   ],
   "source": [
    "fahrenheit = 0\n",
    "print(fahrenheit)"
   ]
  },
  {
   "cell_type": "code",
   "execution_count": 7,
   "id": "835ade1c-2ffd-46da-88fb-2a9c40536078",
   "metadata": {},
   "outputs": [
    {
     "name": "stdout",
     "output_type": "stream",
     "text": [
      "fahrenheit\n",
      "0\n",
      "         0\n",
      "       0.0\n"
     ]
    }
   ],
   "source": [
    "print(f'fahrenheit')\n",
    "print(f'{fahrenheit}')\n",
    "print(f'{fahrenheit:10}')\n",
    "print(f'{fahrenheit:10.1f}')\n",
    "#f''即f-string，将字符串格式化\n",
    "#10，固定宽度，不足十位时右对齐补齐空格\n",
    "#.1，保留一位小数（四舍五入）\n",
    "#f，格式化为浮点数"
   ]
  },
  {
   "cell_type": "code",
   "execution_count": 11,
   "id": "f2f650f3-338b-4e05-9dce-0a2ffdee5362",
   "metadata": {},
   "outputs": [
    {
     "name": "stdout",
     "output_type": "stream",
     "text": [
      "0.33333333\n",
      "0.33333333333333331482961625624739099293947219848632812500000000000000000000000000000000000000000000000000000000000000000000000000000000000000000000000000000000000000000000000000000000000000000000000000000000000000000000000000000000000000000000000000000000000000000000000000000000000000000000000000000000000000000000000000000000000000000000000000000000000000000000000000000000000000000000000000000000000000000000000000000000000000000000000000000000000000000000000000000000000000000000000000000000000000\n"
     ]
    }
   ],
   "source": [
    "celsius = 1/3\n",
    "print(f'{celsius:.8f}')\n",
    "print(f'{celsius:.500f}')\n",
    "#注意这里python中的结果是错的，是由于浮点数存储的精度限制，在日后课程会提及"
   ]
  },
  {
   "cell_type": "code",
   "execution_count": 15,
   "id": "8dd868b5-85f8-467d-832c-d644a00063c1",
   "metadata": {},
   "outputs": [
    {
     "name": "stdout",
     "output_type": "stream",
     "text": [
      "0\n",
      "1\n",
      "2\n",
      "3\n",
      "4\n",
      "5\n",
      "6\n",
      "7\n",
      "8\n",
      "9\n"
     ]
    }
   ],
   "source": [
    "for a in range(0, 10, 1):\n",
    "    print(a)\n",
    "#range函数包含start，不包含stop,因此只输出到9\n",
    "#这是下一个模块需要在stop中加step的原因"
   ]
  },
  {
   "cell_type": "code",
   "execution_count": 19,
   "id": "ed7cc424-2b41-4c0e-9917-27494cfbe28e",
   "metadata": {},
   "outputs": [
    {
     "name": "stdout",
     "output_type": "stream",
     "text": [
      "      0\t        32\n",
      "     10\t        50\n",
      "     20\t        68\n",
      "     30\t        86\n",
      "     40\t       104\n",
      "     50\t       122\n",
      "     60\t       140\n",
      "     70\t       158\n",
      "     80\t       176\n",
      "     90\t       194\n",
      "    100\t       212\n"
     ]
    }
   ],
   "source": [
    "min_temperature = 0\n",
    "max_temperature = 100\n",
    "step = 10\n",
    "for celsius in range(min_temperature, max_temperature + step, step):\n",
    "    fahrenheit = celsius * 9 / 5 + 32\n",
    "    print(f'{celsius:7}\\t{fahrenheit:10.0f}')\n",
    "#为什么必须是10.0f才会显示整数？因为在执行除法时自动输出浮点数"
   ]
  },
  {
   "cell_type": "code",
   "execution_count": null,
   "id": "40b07900-1e99-4194-849f-365df599b7ca",
   "metadata": {},
   "outputs": [],
   "source": []
  }
 ],
 "metadata": {
  "kernelspec": {
   "display_name": "Python [conda env:base] *",
   "language": "python",
   "name": "conda-base-xpython"
  },
  "language_info": {
   "file_extension": ".py",
   "mimetype": "text/x-python",
   "name": "python",
   "version": "3.12.1"
  }
 },
 "nbformat": 4,
 "nbformat_minor": 5
}
